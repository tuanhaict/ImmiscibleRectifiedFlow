{
  "cells": [
    {
      "cell_type": "markdown",
      "metadata": {},
      "source": [
        "<a href=\"https://colab.research.google.com/github/lqiang67/rectified-flow/blob/main/examples/interpolation_conversion.ipynb\" target=\"_parent\"><img src=\"https://colab.research.google.com/assets/colab-badge.svg\" alt=\"Open In Colab\"/></a>"
      ]
    },
    {
      "cell_type": "code",
      "execution_count": null,
      "metadata": {},
      "outputs": [],
      "source": [
        "!git clone https://github.com/lqiang67/rectified-flow.git\n",
        "%cd rectified-flow/"
      ]
    },
    {
      "cell_type": "code",
      "execution_count": 1,
      "metadata": {
        "id": "o4HSmy1HV9_G"
      },
      "outputs": [],
      "source": [
        "import torch\n",
        "import os\n",
        "import sys\n",
        "import numpy as np\n",
        "import matplotlib.pyplot as plt\n",
        "import warnings\n",
        "import copy\n",
        "import plotly.graph_objects as go\n",
        "\n",
        "import torch.distributions as dist\n",
        "\n",
        "from rectified_flow.utils import set_seed\n",
        "from rectified_flow.utils import match_dim_with_data\n",
        "from rectified_flow.datasets.toy_gmm import TwoPointGMM\n",
        "\n",
        "from rectified_flow.rectified_flow import RectifiedFlow\n",
        "from rectified_flow.models.toy_mlp import MLPVelocityConditioned, MLPVelocity\n",
        "\n",
        "device = torch.device('cuda' if torch.cuda.is_available() else 'cpu')"
      ]
    },
    {
      "cell_type": "markdown",
      "metadata": {
        "id": "ZCga0dBsV9_H"
      },
      "source": [
        "# Interpolations\n",
        "\n",
        "In this notebook, we will first demonstrate that all *affine interpolations* are point-wise transformable and explain how transformations between these interpolations can be performed. Then, we will show that these interpolations yield essentially **equivalent** rectified flow dynamics and rectified couplings. Surprisingly, transformations applied to the interpolation are **exactly the same as** those applied to the rectified flow.\n",
        "\n",
        "You can check this [blog post](https://rectifiedflow.github.io/blog/2024/interpolation/) for more comprehensive discussion.\n",
        "\n",
        "Let's start by reviewing the basic concepts of Rectified Flow. If you're looking for a more detailed explanation of the process, we recommend checking out the `train_2d_toy` notebook first.\n",
        "\n",
        "**Interpolation**\n",
        "\n",
        "Given observed samples $X_0 \\sim \\pi_0$ from source distribution and $X_1 \\sim \\pi_1$ from target distribution, we consider a class of *affine interpolations* $X_t$:\n",
        "\n",
        "$$\n",
        "X_t = \\alpha_t \\cdot X_0 + \\beta_t \\cdot X_1,\n",
        "$$\n",
        "\n",
        "where $ \\alpha_t $ and $ \\beta_t $ are time-dependent functions satisfying:\n",
        "$$\n",
        "\\alpha_0 = \\beta_1 = 0 \\quad \\text{and} \\quad \\alpha_1 = \\beta_0 = 1.\n",
        "$$\n",
        "\n",
        "This interpolation scheme is referred to as **affine interpolation**. In practice, it is often desirable for $\\alpha_t$ to be monotonically increasing and $\\beta_t$ to be monotonically decreasing over time $[0,1]$.\n",
        "\n",
        "We refer to $\\{X_t\\} = \\{X_t : t \\in [0,1]\\}$ as the **interpolation process**, which smoothly transitions or \"bridges\" the distribution between $X_0$ and $X_1$.\n",
        "\n",
        "While this process effectively creates a bridge between $X_0$ and $X_1$, it has a significant limitation: it is not \"simulatable.\" Generating $X_t$ at an intermediate time $t$ requires access to both $X_0$ and $X_1$, rather than evolving solely from $X_0$. This dependency makes it impossible for generating new samples in $X_1$, as the target distribution $X_1$ must already be known.\n",
        "\n",
        "**Rectified Flow Velocity Field**\n",
        "\n",
        "To make the interpolation process \"simulatable,\" we can train an Ordinary Differential Equation (ODE) model. The idea is to model the process with an ODE defined as $\\dot{Z}_t = v_t(Z_t)$, where the velocity field $v_t$ is trained to match the slope $\\dot{X}_t$ of the interpolation process. This can be achieved by minimizing the following objective:\n",
        "$$\n",
        "\\min_v \\int_0^1 \\mathbb{E} \\left[\\left\\| \\dot{X}_t - v_t(X_t) \\right\\|^2 \\right] \\, \\mathrm{d}t.\n",
        "$$\n",
        "The theoretical optimum is given by:\n",
        "$$\n",
        "v_t^*(x) = \\mathbb{E}[\\dot{X}_t \\mid X_t = x],\n",
        "$$\n",
        "\n",
        "which represents the **conditional average** of all slopes $\\dot{X}_t$ of the interpolation process at a specific point $X_t = x$.\n",
        "\n",
        "A crucial implication of this conditional average is that it preserves the marginals of the distribution. Intuitively, the ODE model ensures that the total \"mass\" or \"particles\" passing through any small local area remains the same after rectifying. As a result, the distributions of $\\{Z_t\\}_t$ (simulated using the ODE) and $\\{X_t\\}_t$ (from the interpolation process) are guaranteed to be the same. This property is key to ensuring that the ODE correctly models the desired transformation between distributions.\n",
        "\n",
        "![cross](https://github.com/lqiang67/rectified-flow/blob/main/assets/flow_in_out.png?raw=1)\n",
        "\n",
        "We refer to the process $\\{Z_t\\}$ as the **rectified flow**, which is induced from the interpolation process $\\{X_t\\}$. The rectified flow follows the dynamics:\n",
        "\n",
        "$$\n",
        "Z_t = Z_0 + \\int_0^t v(Z_t, t) \\, \\mathrm{d}t, \\quad \\forall t \\in [0, 1], \\quad Z_0 = X_0,\n",
        "$$\n",
        "or more compactly:\n",
        "$$\n",
        "\\{Z_t\\} = \\texttt{RectFlow}(\\{X_t\\}).\n",
        "$$\n",
        "In the 2D toy example, we used the `straight` interpolation, where the interpolation coefficients are defined as $\\alpha_t = 1 - t$ and $\\beta_t = t$. This results in:\n",
        "\n",
        "$$\n",
        "X_t = tX_1 + (1 - t)X_0, \\quad \\dot{X}_t = X_1 - X_0.\n",
        "$$\n",
        "However, $\\alpha_t$ and $\\beta_t$ are not limited to this specific choice. They can be **any** time-dependent functions, as long as they satisfy the conditions $\\alpha_0 = \\beta_1 = 0$ and $ \\alpha_1 = \\beta_0 = 1$ (and also the monotonic property). This means there are infinitely many possible interpolation processes $\\{X_t\\}$ that can be used to induce rectified flows."
      ]
    },
    {
      "cell_type": "markdown",
      "metadata": {
        "id": "xLYF3h2oV9_I"
      },
      "source": [
        "Let’s review three widely used interpolation schemes::\n",
        "\n",
        "**Straight Line Interpolation** (`\"straight\"` or `\"lerp\"`)\n",
        "   \n",
        "$$\n",
        "\\begin{align}\n",
        "    \\alpha_t & = t,       & \\beta_t & = 1 - t \\\\\n",
        "    \\dot{\\alpha}_t & = 1, & \\dot{\\beta}_t & = -1\n",
        "\\end{align}\n",
        "$$\n",
        "- This interpolation follows a straight line connecting the source and target distributions with constant speed.\n",
        "\n",
        "**Spherical Interpolation** (`\"spherical\"` or `\"slerp\"`)\n",
        "\n",
        "$$\n",
        "\\begin{align}\n",
        "    \\alpha_t & = \\sin\\left(\\frac{\\pi}{2} t\\right), & \\beta_t & = \\cos\\left(\\frac{\\pi}{2} t\\right) \\\\\n",
        "    \\dot{\\alpha}_t & = \\frac{\\pi}{2} \\cos\\left(\\frac{\\pi}{2} t\\right), & \\dot{\\beta}_t & = -\\frac{\\pi}{2} \\sin\\left(\\frac{\\pi}{2} t\\right)\n",
        "\\end{align}\n",
        "$$\n",
        "\n",
        "- This slerp spherical interpolation forms a curved trajectory, note that in both cases the boundary conditions are satisfied.\n",
        "\n",
        "**DDIM / VP ODE Interpolation**\n",
        "\n",
        "$$\n",
        "\\begin{align}\n",
        "\t\\alpha_t &= \\exp \\left(- \\frac{1}{4}a(1-t)^2-\\frac 1 2b(1-t) \\right), \\quad \\beta_t = \\sqrt{1- \\alpha_t^2}\n",
        "\\end{align}\n",
        "$$\n",
        "- With default values: $a=19.9, b=0.1$\n",
        "- This also forms a spherical curve, but with non-uniform speed defined by $\\alpha_t$."
      ]
    },
    {
      "cell_type": "code",
      "execution_count": null,
      "metadata": {
        "id": "JkynwIR0V9_I"
      },
      "outputs": [],
      "source": [
        "from rectified_flow.datasets.toy_gmm import TwoPointGMM\n",
        "\n",
        "set_seed(0)\n",
        "n_samples = 50000\n",
        "pi_0 = dist.MultivariateNormal(torch.zeros(2, device=device), torch.eye(2, device=device))\n",
        "pi_1 = TwoPointGMM(x=15.0, y=2, std=0.3)\n",
        "D0 = pi_0.sample([n_samples])\n",
        "D1, labels = pi_1.sample_with_labels([n_samples])\n",
        "labels.tolist()\n",
        "\n",
        "from rectified_flow.flow_components.interpolation_solver import AffineInterp\n",
        "from rectified_flow.utils import visualize_2d_trajectories_plotly\n",
        "\n",
        "straight_interp = AffineInterp(\"straight\")\n",
        "spherical_interp = AffineInterp(\"spherical\")\n",
        "\n",
        "idx = torch.randperm(n_samples)[:1000]\n",
        "x_0 = D0[idx]\n",
        "x_1 = D1[idx]\n",
        "\n",
        "print(x_0.shape)\n",
        "\n",
        "straight_interp_list = []\n",
        "spherical_interp_list = []\n",
        "\n",
        "for t in np.linspace(0, 1, 50):\n",
        "\tx_t_straight, dot_x_t_straight = straight_interp.forward(x_0, x_1, t)\n",
        "\tx_t_spherical, dot_x_t_spherical = spherical_interp.forward(x_0, x_1, t)\n",
        "\tstraight_interp_list.append(x_t_straight)\n",
        "\tspherical_interp_list.append(x_t_spherical)\n",
        "\n",
        "visualize_2d_trajectories_plotly(\n",
        "\ttrajectories_dict={\"straight interp\": straight_interp_list, \"spherical interp\": spherical_interp_list},\n",
        "\tD1_gt_samples=D1[:5000],\n",
        "\tnum_trajectories=50,\n",
        "\ttitle=\"Interpolated Trajectories Visualization\",\n",
        ")"
      ]
    },
    {
      "cell_type": "markdown",
      "metadata": {
        "id": "B2wS8LFaKKr9"
      },
      "source": [
        "# Interpolation convertor\n",
        "\n",
        "In this section, we'll demonstrate how to convert between two interpolation processes.\n",
        "\n",
        "Consider two affine interpolation processes defined with same coupling $(X_0, X_1)$:\n",
        "$$\n",
        "X_t = \\alpha_t X_1 + \\beta_t X_0 \\quad \\text{and} \\quad X_{t}' = \\alpha_{t}' X_1 + \\beta_{t}' X_0.\n",
        "$$\n",
        "\n",
        "We can easily convert between these two interpolations using the following two steps:\n",
        "\n",
        "**1. Matching Time $t$**\n",
        "\n",
        "To match the time parameter $t$ between the processes, note the following properties:\n",
        "$$\n",
        "\\dot{\\alpha}_t > 0, \\quad \\dot{\\beta}_t < 0, \\quad \\alpha_t, \\beta_t \\in [0, 1], \\quad \\forall t \\in [0, 1].\n",
        "$$\n",
        "These conditions imply that the ratio $ \\alpha_t / \\beta_t$ is **strictly increasing** over the interval $[0, 1]$. Consequently, for any given $t$ in process $\\{X_t'\\}$, there exists a unique $t'$ in process $\\{X_t\\}$ such that the ratio matches:\n",
        "$$\n",
        "\\frac{\\alpha_{t'}}{\\beta_{t'}} = \\frac{\\alpha_t'}{\\beta_t'}.\n",
        "$$\n",
        "Similarly, for any given $t'$ in $\\{X_t\\}$, there exists a unique $t$ in $\\{X_t'\\}$ such that the ratio matches. This establishes a **bijective mapping** between $t$ and $t'$.\n",
        "\n",
        "**2. Matching Scales**\n",
        "\n",
        "Once the times $t$ and $t'$ are matched, we consider the scale factors:\n",
        "$$\n",
        "\\frac{X_{t'}}{X_t'} = \\frac{\\alpha_{t'}X_1 + \\beta_{t'}X_0}{\\alpha_t'X_1 + \\beta_t'X_0}.\n",
        "$$\n",
        "Rewriting this ratio:\n",
        "$$\n",
        "\\frac{X_{t'}}{X_t'} = \\frac{\\alpha_{t'}}{\\alpha_t'} \\cdot \\frac{X_1 + \\frac{\\beta_{t'}}{\\alpha_{t'}} X_0}{X_1 + \\frac{\\beta_t'}{\\alpha_t'} X_0} = \\frac{\\alpha_{t'}}{\\alpha_t'}.\n",
        "$$\n",
        "This implies the scaling factor:\n",
        "$$\n",
        "\\omega_t := \\frac{\\alpha_{t'}}{\\alpha_t'} = \\frac{\\beta_{t'}}{\\beta_t'} = \\frac{X_{t'}}{X_t'}.\n",
        "$$\n",
        "**Pointwise Transformability**\n",
        "\n",
        "Formally, we define two interpolation processes $\\{X_t\\}$ and $\\{X_t'\\}$ to be **pointwise transformable** if:\n",
        "$$\n",
        "X_t' = \\phi_t(X_{\\tau_t}), \\quad \\forall t \\in [0, 1],\n",
        "$$\n",
        "where:\n",
        "\n",
        "- $\\tau: t \\mapsto \\tau_t$ is a monotonic time transformation (also invertible).\n",
        "- $\\phi: (t, x) \\mapsto \\phi_t(x)$ is an invertible scaling transformation.\n",
        "\n",
        "For the example above:\n",
        "\n",
        "- $\\tau_t = t'$ (time transformation),\n",
        "- $\\phi_t(X_t) = X_{\\tau_t}/\\omega_t$ (scaling transformation)."
      ]
    },
    {
      "cell_type": "markdown",
      "metadata": {
        "id": "2ikNM5fTV9_J"
      },
      "source": [
        "We can determine the time scaling function $\\tau_t$ in two ways. For simple cases, $\\tau_t$ can be computed analytically. For more complex scenarios, a numerical approach, such as a simple binary search, can be used to find $\\tau_t$ efficiently. "
      ]
    },
    {
      "cell_type": "code",
      "execution_count": null,
      "metadata": {
        "id": "ehbSsJZkV9_J"
      },
      "outputs": [],
      "source": [
        "from rectified_flow.flow_components.interpolation_convertor import AffineInterpConverter\n",
        "\n",
        "straight_interp_list = []\n",
        "spherical_interp_list = []\n",
        "straight_to_spherical_interp_list = []\n",
        "spherical_to_straight_interp_list = []\n",
        "\n",
        "for t in np.linspace(0, 1, 50):\n",
        "\tt = match_dim_with_data(t, x_0.shape, x_0.device, x_0.dtype, expand_dim=False)\n",
        "\n",
        "\tx_t_straight, dot_x_t_straight = straight_interp.forward(x_0, x_1, t)\n",
        "\tx_t_spherical, dot_x_t_spherical = spherical_interp.forward(x_0, x_1, t)\n",
        "\tstraight_interp_list.append(x_t_straight)\n",
        "\tspherical_interp_list.append(x_t_spherical)\n",
        "\n",
        "\t# convert straight_interp to spherical_interp\n",
        "\tmatched_t_straight, scaling_factor_straight = AffineInterpConverter.match_time_and_scale(straight_interp, spherical_interp, t)\n",
        "\t# print(t[:5], matched_t_straight[:5], scaling_factor_straight[:5])\n",
        "\tx_t_straight_to_spherical, dot_x_t_straight_to_spherical = straight_interp.forward(x_0, x_1, matched_t_straight)\n",
        "\tx_t_straight_to_spherical = x_t_straight_to_spherical / scaling_factor_straight.unsqueeze(-1)\n",
        "\tstraight_to_spherical_interp_list.append(x_t_straight_to_spherical)\n",
        "\n",
        "\t# convert spherical_interp to straight_interp\n",
        "\tmatched_t_spherical, scaling_factor_spherical = AffineInterpConverter.match_time_and_scale(spherical_interp, straight_interp, t)\n",
        "\tx_t_spherical_to_straight, dot_x_t_spherical_to_straight = spherical_interp.forward(x_0, x_1, matched_t_spherical)\n",
        "\tx_t_spherical_to_straight = x_t_spherical_to_straight / scaling_factor_spherical.unsqueeze(-1)\n",
        "\tspherical_to_straight_interp_list.append(x_t_spherical_to_straight)\n",
        "\n",
        "visualize_2d_trajectories_plotly(\n",
        "\ttrajectories_dict={\n",
        "\t\t\"straight interp\": straight_interp_list,\n",
        "\t\t\"spherical interp\": spherical_interp_list,\n",
        "\t\t\"straight to spherical interp\": straight_to_spherical_interp_list,\n",
        "\t\t\"spherical to straight interp\": spherical_to_straight_interp_list,\n",
        "\t},\n",
        "\tD1_gt_samples=D1[:2000],\n",
        "\tnum_trajectories=100,\n",
        "\ttitle=\"Interpolated Trajectories Visualization\",\n",
        ")"
      ]
    },
    {
      "cell_type": "markdown",
      "metadata": {
        "id": "NmOBjUiHV9_J"
      },
      "source": [
        "As shown in the figure above, the transformed trajectories match perfectly."
      ]
    },
    {
      "cell_type": "markdown",
      "metadata": {
        "id": "IoBCpgMHV9_J"
      },
      "source": [
        "Interestingly, the same transformation applied to the interpolation process $ \\{X_t\\} $ can also be applied to the corresponding rectified flows. This leads to the following theorem:\n",
        "\n",
        "\n",
        "### **Theorem**\n",
        "\n",
        "If two processes $ \\{X_t\\} $ and $ \\{X'_t\\} $ are related pointwise by:\n",
        "\n",
        "$$\n",
        "X'_t = \\phi_t(X_{\\tau_t}),\n",
        "$$\n",
        "\n",
        "where $ \\phi : (t, x) \\mapsto \\phi_t(x) $ and $ \\tau : t \\mapsto \\tau_t $ are differentiable and invertible maps, then their corresponding rectified flows, $ \\{Z_t\\} $ and $ \\{Z'_t\\} $, satisfy the same relationship:\n",
        "\n",
        "$$\n",
        "Z'_t = \\phi_t(Z_{\\tau_t}),\n",
        "$$\n",
        "\n",
        "provided this relationship holds at initialization, i.e., $ Z'_0 = \\phi_0(Z_0)$.\n",
        "\n",
        "\n",
        "**Implications**\n",
        "\n",
        "This result shows that the rectified flows of pointwise transformable interpolations are fundamentally the same, up to the same pointwise transformation. Furthermore, if $ X_t = \\mathcal{I}_t(X_0, X_1) $ and $ X'_t = \\mathcal{I}'_t(X_0, X_1) $ are constructed from the same coupling $ (X_0, X_1) $, they yield identical rectified couplings: $ (Z'_0, Z'_1) = (Z_0, Z_1) $.\n",
        "\n",
        "To summarize, let $\\{X'_t\\} = \\texttt{Transform}(\\{X_t\\}) $ represent the pointwise transformation described above. The result implies that the rectification operation $ \\texttt{Rectify}(\\cdot) $ is **equivariant** under these transformations, meaning:\n",
        "\n",
        "$$\n",
        "\\texttt{Rectify}(\\texttt{Transform}(\\{X_t\\})) = \\texttt{Transform}(\\texttt{Rectify}(\\{X_t\\})).\n",
        "$$\n",
        "\n",
        "See Chapter 3 of the flow book for detailed derivation."
      ]
    },
    {
      "cell_type": "markdown",
      "metadata": {
        "id": "JCivhcqxV9_J"
      },
      "source": [
        "This figure illustrates the transformation between two interpolations, specifically $ \\tau_t $ and $ \\omega_t $.\n",
        "\n",
        "We can see that the only difference between the `ddim` and `spherical` is the time scaling."
      ]
    },
    {
      "cell_type": "code",
      "execution_count": null,
      "metadata": {
        "id": "WrHm85jMV9_J"
      },
      "outputs": [],
      "source": [
        "t = torch.linspace(0, 1, 100)\n",
        "matched_t, scaling_factor = AffineInterpConverter.match_time_and_scale(AffineInterp(\"straight\"), AffineInterp(\"spherical\"), t)\n",
        "# matched_t, scaling_factor = AffineInterpConverter.match_time_and_scale(AffineInterp(\"ddim\"), AffineInterp(\"spherical\"), t)\n",
        "\n",
        "fig = go.Figure()\n",
        "fig.add_trace(go.Scatter(x=t, y=matched_t, mode='lines', name='matched_t'))\n",
        "fig.add_trace(go.Scatter(x=t, y=scaling_factor, mode='lines', name='scaling_factor'))\n",
        "fig.update_layout(\n",
        "    title=f'Matched Time and Scaling Factor',\n",
        "    xaxis_title='t',\n",
        "    yaxis_title='Value',\n",
        "    height=500,\n",
        "    width=700,\n",
        ")\n",
        "fig.show()"
      ]
    },
    {
      "cell_type": "code",
      "execution_count": null,
      "metadata": {
        "id": "SgXes5OyV9_J"
      },
      "outputs": [],
      "source": [
        "def rf_trainer(rectified_flow, label = \"loss\", batch_size = 1024):\n",
        "    model = rectified_flow.velocity_field\n",
        "    optimizer = torch.optim.Adam(model.parameters(), lr=1e-2)\n",
        "\n",
        "    losses = []\n",
        "    for step in range(5000):\n",
        "        optimizer.zero_grad()\n",
        "        x_0 = pi_0.sample([batch_size]).to(device)\n",
        "        x_1 = pi_1.sample([batch_size]).to(device)\n",
        "\n",
        "        loss = rectified_flow.get_loss(x_0, x_1)\n",
        "        loss.backward()\n",
        "        optimizer.step()\n",
        "        losses.append(loss.item())\n",
        "\n",
        "        if step % 1000 == 0:\n",
        "            print(f\"Epoch {step}, Loss: {loss.item()}\")\n",
        "\n",
        "    plt.plot(losses, label=label)\n",
        "    plt.legend()\n",
        "\n",
        "from rectified_flow.models.toy_mlp import MLPVelocity\n",
        "\n",
        "set_seed(0)\n",
        "straight_rf = RectifiedFlow(\n",
        "    data_shape=(2,),\n",
        "    velocity_field=MLPVelocity(2, hidden_sizes = [128, 128, 128]).to(device),\n",
        "    interp=straight_interp,\n",
        "    source_distribution=pi_0,\n",
        "    device=device,\n",
        ")\n",
        "\n",
        "set_seed(0)\n",
        "spherical_rf = RectifiedFlow(\n",
        "    data_shape=(2,),\n",
        "\tvelocity_field=MLPVelocity(2, hidden_sizes = [128, 128, 128]).to(device),\n",
        "\tinterp=spherical_interp,\n",
        "\tsource_distribution=pi_0,\n",
        "\tdevice=device,\n",
        ")\n",
        "\n",
        "set_seed(0)\n",
        "rf_trainer(rectified_flow=straight_rf, label=\"straight interp\")\n",
        "\n",
        "set_seed(0)\n",
        "rf_trainer(rectified_flow=spherical_rf, label=\"spherical interp\")"
      ]
    },
    {
      "cell_type": "code",
      "execution_count": null,
      "metadata": {
        "id": "x9gKTy0xKKsG"
      },
      "outputs": [],
      "source": [
        "from rectified_flow.samplers import EulerSampler\n",
        "\n",
        "euler_sampler_straight = EulerSampler(straight_rf, num_steps=100)\n",
        "euler_sampler_straight.sample_loop(seed=0, num_samples=500)\n",
        "\n",
        "euler_sampler_spherical = EulerSampler(spherical_rf, num_steps=100)\n",
        "euler_sampler_spherical.sample_loop(seed=0, num_samples=500)\n",
        "\n",
        "visualize_2d_trajectories_plotly(\n",
        "    trajectories_dict={\n",
        "        \"1rf straight\": euler_sampler_straight.trajectories,\n",
        "        \"1rf spherical\": euler_sampler_spherical.trajectories,\n",
        "\t},\n",
        "    D1_gt_samples=D1[:2000],\n",
        "    num_trajectories=100,\n",
        "    title=\"Euler Sampler Visualization\",\n",
        ")"
      ]
    },
    {
      "cell_type": "markdown",
      "metadata": {
        "id": "RydQ5yhpV9_K"
      },
      "source": [
        "Now, let’s take a pretrained straight rectified flow and transform it into a curved trajectory. In practice, we can leverage the existing velocity predictions from the straight path and reapply them to a new, curved rectified flow. Given the current postion $(z'_t,t)$ on $\\{Z'_t\\}$, we aim to use the pretrained velocity and convert it accordingly.\n",
        "\n",
        "1. **Mapping to the New Trajectory**:  \n",
        "   First, we find the corresponding position on the straight trajectory $\\{Z_t\\}$ for any given point $Z'_t$ on the curved trajectory $\\{Z'_t\\}$. This ensures we can reuse the pre-trained velocity field, which is defined along the straight path.\n",
        "\n",
        "2. **Velocity Predictions**:  \n",
        "   With the mapping established, we can now use the trained velocity model on $\\{Z_t\\}$ to obtain predictions $\\hat{X}_0$ and $\\hat{X}_1$. These predictions are crucial for ensuring that our curved interpolation still respects the underlying distributions.\n",
        "\n",
        "3. **Updating the Trajectory**:  \n",
        "   Finally, we advance the state along the curved trajectory using the updated interpolation $\\mathcal{I}(\\hat{X}_0, \\hat{X}_1)$. This step integrates our predictions and ensures the resulting flow truly follows the curved path we’ve chosen.\n",
        "\n",
        "By following these steps, we effectively \"re-route\" a rectified flow—originally trained on a straight interpolation—onto a different curve, all without needing to retrain the underlying model."
      ]
    },
    {
      "cell_type": "code",
      "execution_count": 7,
      "metadata": {
        "id": "XFT8hdWZKKsI"
      },
      "outputs": [],
      "source": [
        "target_interp = AffineInterp(\"spherical\")\n",
        "\n",
        "convert_spherical_rf = AffineInterpConverter(straight_rf, target_interp).transform_rectified_flow()"
      ]
    },
    {
      "cell_type": "markdown",
      "metadata": {
        "id": "Li5yREdCKKsM"
      },
      "source": [
        "We’ve successfully converted the pretrained straight rectified flow into a spherical one.\n",
        "\n",
        "Next, let’s perform sampling using an Euler sampler on the two trajectories.\n",
        "\n",
        "Let $\\frac{\\mathrm d}{\\mathrm dt} Z_t = v_t(Z_t)$ be the rectified flow of $\\{X_t\\}$, which is initialized with $Z_0 = X_0$. Then $Z'_t = \\phi_t(Z_{\\tau_t})$ is the rectified flow of $\\{X'_t\\}$ with a specific initialization\n",
        "\n",
        "$$\n",
        "\\frac{\\mathrm d}{\\mathrm dt} Z'_t = v'_t(Z'_t), \\quad \\forall t \\in [0, 1], \\quad \\text{and} \\quad Z'_0 = \\phi_0(Z_{\\tau_0}).\n",
        "$$\n",
        "\n",
        "In other words, the transformed trajectories lead to the same destinations! Despite following entirely different trajectories, their final generated samples are exactly identical.\n",
        "\n",
        "By varying the `num_steps` in the following cell, we notice that as the number of steps increases, the Mean Squared Error (MSE) between the generated $ Z_1 $ and $ Z_1' $ decreases, confirming the consistency of the rectified coupling."
      ]
    },
    {
      "cell_type": "code",
      "execution_count": null,
      "metadata": {},
      "outputs": [],
      "source": [
        "# Try different num_steps, e.g. [5, 10, 50, 100, 500]\n",
        "num_samples = 500\n",
        "num_steps = 10\n",
        "\n",
        "euler_sampler_straight = EulerSampler(straight_rf, num_steps=num_steps)\n",
        "euler_sampler_straight.sample_loop(seed=0, num_samples=num_samples)\n",
        "\n",
        "euler_sampler_converted_spherical = EulerSampler(convert_spherical_rf, num_steps=num_steps, num_samples=num_samples)\n",
        "euler_sampler_converted_spherical.sample_loop(seed=0)\n",
        "\n",
        "mse = torch.mean((euler_sampler_straight.trajectories[-1] - euler_sampler_converted_spherical.trajectories[-1])**2)\n",
        "print(mse)\n",
        "\n",
        "# zoom in to see they are really close\n",
        "visualize_2d_trajectories_plotly(\n",
        "\ttrajectories_dict={\n",
        "        \"straight rf\": euler_sampler_straight.trajectories, \n",
        "        \"straight to spherical rf\": euler_sampler_converted_spherical.trajectories\n",
        "    },\n",
        "\tD1_gt_samples=D1[:2000],\n",
        "\tnum_trajectories=100,\n",
        "\ttitle=f\"Straight Converted to Spherical   v.s.   Original Straight RF\",\n",
        ")"
      ]
    },
    {
      "cell_type": "markdown",
      "metadata": {},
      "source": [
        "Obeserve that the converted spherical rf is nearly the same as the spherical rf\n",
        "\n",
        "The only difference lies in the velocity paramitrization, which is not a big deal"
      ]
    },
    {
      "cell_type": "code",
      "execution_count": null,
      "metadata": {
        "id": "Hv5lKiHTKKsX"
      },
      "outputs": [],
      "source": [
        "# Try different num_steps, e.g. [5, 10, 50, 100, 500]\n",
        "num_samples = 500\n",
        "num_steps = 100\n",
        "euler_sampler_converted_spherical = EulerSampler(convert_spherical_rf, num_steps=num_steps, num_samples=num_samples)\n",
        "euler_sampler_converted_spherical.sample_loop(seed=0)\n",
        "\n",
        "euler_sampler_spherical = EulerSampler(spherical_rf, num_steps=num_steps)\n",
        "euler_sampler_spherical.sample_loop(seed=0, num_samples=num_samples)\n",
        "\n",
        "mse = torch.mean((euler_sampler_spherical.trajectories[-1] - euler_sampler_converted_spherical.trajectories[-1])**2)\n",
        "print(mse)\n",
        "\n",
        "# zoom in to see they are really close\n",
        "visualize_2d_trajectories_plotly(\n",
        "\ttrajectories_dict={\n",
        "        \"spherical rf\": euler_sampler_spherical.trajectories, \n",
        "        \"converted spherical rf\": euler_sampler_converted_spherical.trajectories\n",
        "    },\n",
        "\tD1_gt_samples=D1[:2000],\n",
        "\tnum_trajectories=100,\n",
        "\ttitle=f\"Converte Straight to Spherical RF v.s. Spherical RF\",\n",
        ")"
      ]
    },
    {
      "cell_type": "markdown",
      "metadata": {},
      "source": [
        "Now we re-parametrize the straight rf, and learn it with spherical interpolation."
      ]
    },
    {
      "cell_type": "code",
      "execution_count": null,
      "metadata": {},
      "outputs": [],
      "source": [
        "def reparametrized_velocity_field(x, t):\n",
        "    tau, omega = AffineInterpConverter.match_time_and_scale(AffineInterp(\"straight\"), AffineInterp(\"spherical\"), t)\n",
        "    omega = omega.unsqueeze(-1)\n",
        "    v_tau = spherical_rf_reparametrized_model(omega * x, tau)\n",
        "    v = torch.pi / 2.0 * omega * (\n",
        "        v_tau + (torch.cos(torch.pi * t / 2.) - torch.sin(torch.pi * t / 2.)).unsqueeze(-1) * x\n",
        "    )\n",
        "    return v\n",
        "    \n",
        "set_seed(0)\n",
        "spherical_rf_reparametrized_model = MLPVelocity(2, hidden_sizes = [128, 128, 128]).to(device)\n",
        "\n",
        "spherical_rf_reparametrized = RectifiedFlow(\n",
        "    data_shape=(2,),\n",
        "    velocity_field=reparametrized_velocity_field,\n",
        "    interp=spherical_interp,\n",
        "    source_distribution=pi_0,\n",
        "    device=device,\n",
        ")\n",
        "\n",
        "batch_size = 1024\n",
        "\n",
        "set_seed(0)\n",
        "optimizer = torch.optim.Adam(spherical_rf_reparametrized_model.parameters(), lr=1e-2)\n",
        "\n",
        "losses = []\n",
        "for step in range(5000):\n",
        "    optimizer.zero_grad()\n",
        "    x_0 = pi_0.sample([batch_size]).to(device)\n",
        "    x_1 = pi_1.sample([batch_size]).to(device)\n",
        "\n",
        "    loss = spherical_rf_reparametrized.get_loss(x_0, x_1) / torch.pi * 2\n",
        "    loss.backward()\n",
        "    optimizer.step()\n",
        "    losses.append(loss.item())\n",
        "\n",
        "    if step % 1000 == 0:\n",
        "        print(f\"Epoch {step}, Loss: {loss.item()}\")\n",
        "\n",
        "plt.plot(losses, label=\"reparametrized loss\")\n",
        "plt.legend()"
      ]
    },
    {
      "cell_type": "code",
      "execution_count": null,
      "metadata": {},
      "outputs": [],
      "source": [
        "# Try different num_steps, e.g. [5, 10, 50, 100, 500]\n",
        "num_samples = 500\n",
        "num_steps = 100\n",
        "euler_sampler_converted_spherical = EulerSampler(convert_spherical_rf, num_steps=num_steps, num_samples=num_samples)\n",
        "euler_sampler_converted_spherical.sample_loop(seed=0)\n",
        "\n",
        "euler_sampler_spherical = EulerSampler(spherical_rf_reparametrized, num_steps=num_steps)\n",
        "euler_sampler_spherical.sample_loop(seed=0, num_samples=num_samples)\n",
        "\n",
        "mse = torch.mean((euler_sampler_spherical.trajectories[-1] - euler_sampler_converted_spherical.trajectories[-1])**2)\n",
        "print(mse)\n",
        "\n",
        "# zoom in to see they are really close\n",
        "visualize_2d_trajectories_plotly(\n",
        "\ttrajectories_dict={\n",
        "        \"reparam spherical rf\": euler_sampler_spherical.trajectories, \n",
        "        \"straight to spherical rf\": euler_sampler_converted_spherical.trajectories\n",
        "    },\n",
        "\tD1_gt_samples=D1[:2000],\n",
        "\tnum_trajectories=100,\n",
        "\ttitle=f\"Re-parametrized Straight RF  v.s.  Converted Straight to Spherical RF\",\n",
        ")"
      ]
    }
  ],
  "metadata": {
    "colab": {
      "include_colab_link": true,
      "provenance": []
    },
    "kernelspec": {
      "display_name": "learning",
      "language": "python",
      "name": "python3"
    },
    "language_info": {
      "codemirror_mode": {
        "name": "ipython",
        "version": 3
      },
      "file_extension": ".py",
      "mimetype": "text/x-python",
      "name": "python",
      "nbconvert_exporter": "python",
      "pygments_lexer": "ipython3",
      "version": "3.12.8"
    }
  },
  "nbformat": 4,
  "nbformat_minor": 0
}
