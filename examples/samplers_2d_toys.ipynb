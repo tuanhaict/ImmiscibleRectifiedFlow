{
 "cells": [
  {
   "cell_type": "markdown",
   "metadata": {},
   "source": [
    "<a href=\"https://colab.research.google.com/github/lqiang67/rectified-flow/blob/main/examples/samplers_2d_toys.ipynb\" target=\"_parent\"><img src=\"https://colab.research.google.com/assets/colab-badge.svg\" alt=\"Open In Colab\"/></a>"
   ]
  },
  {
   "cell_type": "code",
   "execution_count": null,
   "metadata": {},
   "outputs": [],
   "source": [
    "!git clone https://github.com/lqiang67/rectified-flow.git\n",
    "%cd rectified-flow/"
   ]
  },
  {
   "cell_type": "markdown",
   "metadata": {},
   "source": [
    "This notebook explores the samplers available in this repository using a 2D toy example. \n",
    "\n",
    "- illustrates the concepts and usage of both deterministic and stochastic samplers. \n",
    "- demonstrates how to customize a sampler by inheriting from the Sampler base class.\n",
    "- discusses the effects of employing stochastic samplers."
   ]
  },
  {
   "cell_type": "code",
   "execution_count": 1,
   "metadata": {},
   "outputs": [],
   "source": [
    "import torch\n",
    "import os\n",
    "import sys\n",
    "import numpy as np\n",
    "import matplotlib.pyplot as plt\n",
    "\n",
    "import torch.distributions as dist\n",
    "\n",
    "from rectified_flow.utils import set_seed\n",
    "from rectified_flow.utils import visualize_2d_trajectories_plotly\n",
    "from rectified_flow.datasets.toy_gmm import TwoPointGMM\n",
    "\n",
    "from rectified_flow.rectified_flow import RectifiedFlow\n",
    "from rectified_flow.models.toy_mlp import MLPVelocityConditioned, MLPVelocity\n",
    "\n",
    "set_seed(0)\n",
    "device = torch.device('cuda' if torch.cuda.is_available() else 'cpu')"
   ]
  },
  {
   "cell_type": "markdown",
   "metadata": {
    "vscode": {
     "languageId": "sql"
    }
   },
   "source": [
    "In this example, we use a 2D toy dataset consisting of:\n",
    "\n",
    "- $\\pi_0$: A standard 2D Gaussian distribution with mean of zeros and identity covariance matrix.\n",
    "- $\\pi_1$: A custom two-point Gaussian mixture model with centers located at $(15, 2)$ and a standard deviation of $0.3$"
   ]
  },
  {
   "cell_type": "code",
   "execution_count": null,
   "metadata": {},
   "outputs": [],
   "source": [
    "n_samples = 50000\n",
    "pi_0 = dist.MultivariateNormal(torch.zeros(2, device=device), torch.eye(2, device=device))\n",
    "pi_1 = TwoPointGMM(x=15.0, y=2, std=0.3)\n",
    "D0 = pi_0.sample([n_samples])\n",
    "D1, labels = pi_1.sample_with_labels([n_samples])\n",
    "labels.tolist()\n",
    "\n",
    "plt.scatter(D0[:, 0].cpu().numpy(), D0[:, 1].cpu().numpy(), alpha=0.5, label='D0')\n",
    "plt.scatter(D1[:, 0].cpu().numpy(), D1[:, 1].cpu().numpy(), alpha=0.5, label='D1')\n",
    "plt.legend()\n",
    "plt.xlim(-5, 18)\n",
    "plt.ylim(-5, 5)\n",
    "plt.gca().set_aspect('equal', adjustable='box')\n",
    "plt.show()"
   ]
  },
  {
   "cell_type": "code",
   "execution_count": null,
   "metadata": {},
   "outputs": [],
   "source": [
    "def rf_trainer(rectified_flow, label = \"loss\", batch_size = 1024):\n",
    "    model = rectified_flow.velocity_field\n",
    "    optimizer = torch.optim.Adam(model.parameters(), lr=1e-3)\n",
    "\n",
    "    losses = []\n",
    "\n",
    "    for step in range(5000):\n",
    "        optimizer.zero_grad()\n",
    "        idx = torch.randperm(n_samples)[:batch_size]\n",
    "        x_0 = D0[idx].to(device)\n",
    "        x_1 = D1[idx].to(device)\n",
    "\n",
    "        loss = rectified_flow.get_loss(x_0, x_1)\n",
    "        loss.backward()\n",
    "        optimizer.step()\n",
    "        losses.append(loss.item())\n",
    "\n",
    "        if step % 1000 == 0:\n",
    "            print(f\"Epoch {step}, Loss: {loss.item()}\")\n",
    "\n",
    "    plt.plot(losses, label=label)\n",
    "    plt.legend()\n",
    "    \n",
    "from rectified_flow.models.toy_mlp import MLPVelocity\n",
    "\n",
    "straight_rf = RectifiedFlow(\n",
    "    data_shape=(2,),\n",
    "    velocity_field=MLPVelocity(2, hidden_sizes = [128, 128, 128]).to(device),\n",
    "    interp=\"straight\",\n",
    "    source_distribution=pi_0,\n",
    "    device=device,\n",
    ")\n",
    "\n",
    "rf_trainer(straight_rf, \"straight interp\")"
   ]
  },
  {
   "cell_type": "markdown",
   "metadata": {},
   "source": [
    "# Samplers"
   ]
  },
  {
   "cell_type": "markdown",
   "metadata": {},
   "source": [
    "`Rectified Flow` also offers several off-the-shelf `Sampler`s for exploration and study. These prebuilt Samplers are straightforward to use. "
   ]
  },
  {
   "cell_type": "code",
   "execution_count": null,
   "metadata": {},
   "outputs": [],
   "source": [
    "from rectified_flow.samplers import rf_samplers_dict\n",
    "\n",
    "for key, rf_sampler in rf_samplers_dict.items():\n",
    "\tprint(f\"{key}: {rf_sampler}\")"
   ]
  },
  {
   "cell_type": "markdown",
   "metadata": {},
   "source": [
    "#### Euler Sampler\n",
    "\n",
    "The **Euler Sampler** is a simple, deterministic method. It updates each sample $X_t$ by moving along the direction of the velocity field $v(X_t, t)$:\n",
    "\n",
    "$$\n",
    "X_{t + \\Delta t} = X_t + \\Delta t \\cdot v(X_t, t)\n",
    "$$\n",
    "\n",
    "To implement the **Euler Sampler**, we inherit from the `Sampler` base class and override its `step` method. The base class handles time-stepping and trajectory recording, so we only need to define how the state $x_t$ is updated in each step:"
   ]
  },
  {
   "cell_type": "code",
   "execution_count": null,
   "metadata": {},
   "outputs": [],
   "source": [
    "from rectified_flow.samplers.base_sampler import Sampler\n",
    "\n",
    "class MyEulerSampler(Sampler):\n",
    "    def __init__(self, **kwargs):\n",
    "        super().__init__(**kwargs)\n",
    "\n",
    "    def step(self, **model_kwargs):\n",
    "        # Extract the current time, next time point, and current state\n",
    "        t, t_next, x_t = self.t, self.t_next, self.x_t\n",
    "        \n",
    "        # Compute the velocity field at the current state and time\n",
    "        v_t = self.rectified_flow.get_velocity(x_t=x_t, t=t, **model_kwargs)\n",
    "        \n",
    "        # Update the state using the Euler formula\n",
    "        self.x_t = x_t + (t_next - t) * v_t\n",
    "        \n",
    "euler_sampler = MyEulerSampler(\n",
    "    rectified_flow=straight_rf,\n",
    "    num_steps=50,\n",
    "    num_samples=100,\n",
    ")\n",
    "\n",
    "# Sample method 1)\n",
    "# Will use the default num_steps and num_samples previously set in the Sampler class\n",
    "traj1 = euler_sampler.sample_loop(seed=233)\n",
    "\n",
    "# Sample method 2)\n",
    "# We can pass in a custom x_0 to sample from\n",
    "set_seed(233)\n",
    "x_0 = straight_rf.sample_source_distribution(batch_size=100)\n",
    "traj2 = euler_sampler.sample_loop(x_0=x_0)\n",
    "\n",
    "# Sample method 3)\n",
    "# If we pass in num_steps and num_samples, it will override the default values\n",
    "traj3 = euler_sampler.sample_loop(seed=233, num_steps=50, num_samples=100)\n",
    "\n",
    "# three trajectories are the same\n",
    "visualize_2d_trajectories_plotly(\n",
    "    trajectories_dict={\n",
    "        \"traj1\": traj1.trajectories,\n",
    "        \"traj2\": traj2.trajectories,\n",
    "        \"traj3\": traj3.trajectories,\n",
    "    },\n",
    "    D1_gt_samples=D1[:1000],\n",
    "    num_trajectories=100,\n",
    "    title=\"My Euler Sampler\",\n",
    ")"
   ]
  },
  {
   "cell_type": "markdown",
   "metadata": {},
   "source": [
    "#### AffineInterp Solver\n",
    "The interpolation process is governed by two equations:\n",
    "\n",
    "$$\n",
    "\\begin{align}\n",
    "    X_t &= \\alpha_t \\cdot X_1 + \\beta_t \\cdot X_0, \\\\\n",
    "    \\dot{X}_t &= \\dot{\\alpha}_t \\cdot X_1 + \\dot{\\beta}_t \\cdot X_0,\n",
    "\\end{align}\n",
    "$$\n",
    "\n",
    "where $X_t$ represents the interpolated state at time $t$, and $\\dot{X}_t$ is its time derivative.\n",
    "\n",
    "Given any two of the variables $X_0, X_1, X_t, \\dot{X}_t$, the remaining two variables can be uniquely determined for a specific time $t$. \n",
    "\n",
    "The `AffineInterp` class provide a `solve` function, which incorporates precomputed symbolic solvers for all possible combinations of known and unknown variables, making it straightforward to compute the missing variables as needed."
   ]
  },
  {
   "cell_type": "code",
   "execution_count": 6,
   "metadata": {},
   "outputs": [],
   "source": [
    "x_0 = straight_rf.sample_source_distribution(batch_size=500)\n",
    "x_1 = D1[:500].to(device)\n",
    "t = straight_rf.sample_train_time(batch_size=500)\n",
    "x_t, dot_x_t = straight_rf.get_interpolation(x_0, x_1, t)\n",
    "\n",
    "# Given x_t and dot_x_t, solve for x_0 and x_1\n",
    "result = straight_rf.interp.solve(t, x_t=x_t, dot_x_t=dot_x_t)\n",
    "x_1_pred = result.x_1\n",
    "x_0_pred = result.x_0\n",
    "\n",
    "assert torch.allclose(x_0, x_0_pred, atol=1e-4)\n",
    "assert torch.allclose(x_1, x_1_pred, atol=1e-4)"
   ]
  },
  {
   "cell_type": "markdown",
   "metadata": {},
   "source": [
    "### Curved Euler Sampler\n",
    "\n",
    "The **Curved Euler Sampler** uses interpolation to trace a curved path rather than a straight line. It works as follows:\n",
    "\n",
    "* Starting from the current state $(X_t, t)$\n",
    "* Use the velocity model to predict the next velocities and generate two reference points $\\hat{X}_0$ and $\\hat{X}_1$.\n",
    "* Interpolate between $\\hat{X}_0$ and $\\hat{X}_1$ using functions $\\alpha(t)$ and $\\beta(t)$ to get the next state:\n",
    "\n",
    "$$\n",
    "X_{t + \\Delta_t} = \\alpha(t + \\Delta t) \\cdot \\hat{X}_1 + \\beta(t + \\Delta t) \\cdot \\hat{X}_0\n",
    "$$\n",
    "\n",
    "There's a interesting observation on Cuverd Euler Sampler with different interpolation schemes - they are all equivalent. Check the [natural euler samplers](https://rectifiedflow.github.io/blog/2024/discretization/) for more details."
   ]
  },
  {
   "cell_type": "code",
   "execution_count": null,
   "metadata": {},
   "outputs": [],
   "source": [
    "from rectified_flow.samplers import CurvedEulerSampler\n",
    "\n",
    "curved_euler_sampler_straight = CurvedEulerSampler(\n",
    "    rectified_flow=straight_rf,\n",
    "\tnum_steps=10,\n",
    "\tnum_samples=100,\n",
    ")\n",
    "\n",
    "visualize_2d_trajectories_plotly(\n",
    "    trajectories_dict={\n",
    "\t\t\"straight\": curved_euler_sampler_straight.sample_loop(seed=0).trajectories, \n",
    "\t},\n",
    "\tD1_gt_samples=D1[:1000],\n",
    "\tnum_trajectories=100,\n",
    "\ttitle=\"Curved Euler Sampler\",\n",
    ")"
   ]
  },
  {
   "cell_type": "markdown",
   "metadata": {},
   "source": [
    "### Noise Refresh Sampler\n",
    "\n",
    "This example demonstrates how to create a custom sampler that refreshes the noise component at each step. \n",
    "\n",
    "At each point, the sampler predicts the noise component $\\hat{X}_0$ and refreshes it by blending it with new noise, using the formula:\n",
    "\n",
    "$$\n",
    "X_0' = \\sqrt{1 - \\eta^2} \\cdot \\hat{X}_0 + \\eta \\cdot \\epsilon,\n",
    "$$\n",
    "\n",
    "where $\\eta$ is the noise replacement rate, and $\\epsilon$ is a random noise sample. "
   ]
  },
  {
   "cell_type": "code",
   "execution_count": null,
   "metadata": {},
   "outputs": [],
   "source": [
    "class MyNoiseRefreshSampler(Sampler):\n",
    "    def __init__(self, noise_replacement_rate = lambda t: 0.5, **kwargs):\n",
    "        super().__init__(**kwargs)\n",
    "        self.noise_replacement_rate = noise_replacement_rate\n",
    "        assert (self.rectified_flow.independent_coupling and self.rectified_flow.is_pi_0_zero_mean_gaussian), \\\n",
    "            'pi0 must be a zero mean gaussian and must use indepdent coupling'\n",
    "\n",
    "    def step(self, **model_kwargs):\n",
    "        t, t_next, x_t = self.t, self.t_next, self.x_t\n",
    "        v_t = self.rectified_flow.get_velocity(x_t=x_t, t=t, **model_kwargs)\n",
    "\n",
    "        # Given x_t and dot_x_t = vt, find the corresponding endpoints x_0 and x_1\n",
    "        self.rectified_flow.interp.solve(t, x_t=x_t, dot_x_t=v_t)\n",
    "        x_1_pred = self.rectified_flow.interp.x_1\n",
    "        x_0_pred = self.rectified_flow.interp.x_0\n",
    "\n",
    "        # Randomize x_0_pred by replacing part of it with new noise\n",
    "        noise = self.rectified_flow.sample_source_distribution(self.num_samples)\n",
    "\n",
    "        noise_replacement_factor = self.noise_replacement_rate(t)\n",
    "        x_0_pred_refreshed = (\n",
    "            (1 - noise_replacement_factor**2)**0.5 * x_0_pred +\n",
    "            noise * noise_replacement_factor\n",
    "        )\n",
    "\n",
    "        # Interpolate to find x_t at t_next\n",
    "        self.rectified_flow.interp.solve(t_next, x_0=x_0_pred_refreshed, x_1=x_1_pred)\n",
    "        self.x_t = self.rectified_flow.interp.x_t\n",
    "        \n",
    "noise_refresh_sampler = MyNoiseRefreshSampler(\n",
    "    rectified_flow=straight_rf,\n",
    "    num_steps=50,\n",
    "    num_samples=500,\n",
    ")\n",
    "\n",
    "visualize_2d_trajectories_plotly(\n",
    "    trajectories_dict={\n",
    "        \"spherical\": noise_refresh_sampler.sample_loop(seed=0).trajectories,\n",
    "    },\n",
    "    D1_gt_samples=D1[:1000],\n",
    "    num_trajectories=100,\n",
    "    title=\"Noise Refresh Sampler\",\n",
    ")"
   ]
  },
  {
   "cell_type": "markdown",
   "metadata": {},
   "source": [
    "### SDESampler\n",
    "\n",
    "The **SDESampler** introduces stochasticity (randomness) into the sampling process. We control the noise at time $(t)$ using the following hyperparameters:\n",
    "\n",
    "* **noise_scale**: Controls the amount of noise added at each step.\n",
    "\n",
    "* **noise_decay_rate**: Controls how the noise changes over time. A decay rate of 0 means the noise level remains constant, while a decay rate of 1.0 means the noise decreases over time.\n",
    "\n",
    "Mathematically, the effective noise at time $(t)$ is given by:\n",
    "\n",
    "$$\n",
    "\\text{Effective Noise at time } t = \\text{step\\_size} \\times \\text{noise\\_scale} \\times \\beta_t^{\\text{noise\\_decay\\_rate}}\n",
    "$$\n",
    "\n",
    "Check out this [blog post](https://rectifiedflow.github.io/blog/2024/diffusion/) for more details."
   ]
  },
  {
   "cell_type": "code",
   "execution_count": null,
   "metadata": {},
   "outputs": [],
   "source": [
    "from rectified_flow.samplers import SDESampler\n",
    "\n",
    "sde_sampler_sphere = SDESampler(\n",
    "    rectified_flow=straight_rf,\n",
    "\tnum_steps=50,\n",
    "\tnum_samples=500,\n",
    ")\n",
    "\n",
    "visualize_2d_trajectories_plotly(\n",
    "    trajectories_dict={\n",
    "\t\t\"straight rf sde\": sde_sampler_sphere.sample_loop(seed=0).trajectories, \n",
    "\t},\n",
    "\tD1_gt_samples=D1[:1000],\n",
    "\tnum_trajectories=100,\n",
    "\ttitle=\"SDE Sampler\",\n",
    ")"
   ]
  },
  {
   "cell_type": "markdown",
   "metadata": {},
   "source": [
    "We can easily implement a sotchastic sampler that matched the **DDPM** sampling schem:"
   ]
  },
  {
   "cell_type": "code",
   "execution_count": null,
   "metadata": {},
   "outputs": [],
   "source": [
    "from rectified_flow.samplers.stochastic_curved_euler_sampler import StochasticCurvedEulerSampler\n",
    "\n",
    "stochastic_curved_euler_sampler = StochasticCurvedEulerSampler(\n",
    "    rectified_flow=straight_rf,\n",
    "\tnum_steps=100,\n",
    "\tnum_samples=1000,\n",
    "    noise_replacement_rate=\"ddpm\",\n",
    ")\n",
    "\n",
    "visualize_2d_trajectories_plotly(\n",
    "    trajectories_dict={\n",
    "\t\t\"straight\": stochastic_curved_euler_sampler.sample_loop(seed=0).trajectories, \n",
    "\t},\n",
    "\tD1_gt_samples=D1[:1000],\n",
    "\tnum_trajectories=100,\n",
    "\ttitle=\"Stochastic Curved Euler Sampler\",\n",
    ")"
   ]
  },
  {
   "cell_type": "markdown",
   "metadata": {},
   "source": [
    "### OvershootingSampler\n",
    "\n",
    "The OverShootingSampler, introduced in [our AMO Sampler paper]((https://arxiv.org/abs/2411.19415)), adds an extra \"overshoot\" step during sampling. This means that at each step, it doesn't just move forward along the trajectory, but goes a bit beyond the next point and then comes back, adding more stochasticity and potentially finding better paths. We can control the amount of noise added by:\n",
    "\n",
    "* c: A parameter controlling how far we overshoot.\n",
    "* overshooting_method: Determines the exact method used to overshoot (e.g., \"t+dt\")."
   ]
  },
  {
   "cell_type": "code",
   "execution_count": null,
   "metadata": {},
   "outputs": [],
   "source": [
    "from rectified_flow.samplers import OverShootingSampler\n",
    "\n",
    "\n",
    "sde_sampler = OverShootingSampler(\n",
    "    rectified_flow=straight_rf,\n",
    "    num_steps=10,\n",
    "    num_samples=1000,\n",
    "    c=15.0,\n",
    "    overshooting_method=\"t+dt\"\n",
    ")\n",
    "\n",
    "sde_sampler.sample_loop()\n",
    "\n",
    "plt.figure(figsize=(5,3))\n",
    "\n",
    "# Plot CurvedEulerSampler results\n",
    "visualize_2d_trajectories_plotly(\n",
    "    {\"overshooting\": sde_sampler.trajectories},\n",
    "    D1[:1000], # D1 defined previously\n",
    "    num_trajectories=100,\n",
    "    show_legend=True\n",
    ")\n",
    "plt.title(\"OverShootingSampler\")"
   ]
  }
 ],
 "metadata": {
  "kernelspec": {
   "display_name": "learning",
   "language": "python",
   "name": "python3"
  },
  "language_info": {
   "codemirror_mode": {
    "name": "ipython",
    "version": 3
   },
   "file_extension": ".py",
   "mimetype": "text/x-python",
   "name": "python",
   "nbconvert_exporter": "python",
   "pygments_lexer": "ipython3",
   "version": "3.12.8"
  }
 },
 "nbformat": 4,
 "nbformat_minor": 2
}
